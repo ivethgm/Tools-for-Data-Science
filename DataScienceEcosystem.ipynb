{
  "nbformat": 4,
  "nbformat_minor": 0,
  "metadata": {
    "colab": {
      "provenance": []
    },
    "kernelspec": {
      "name": "python3",
      "display_name": "Python 3"
    },
    "language_info": {
      "name": "python"
    }
  },
  "cells": [
    {
      "cell_type": "markdown",
      "source": [
        "# Data Science Tools and Ecosystem\n",
        "\n",
        "#### In this notebook, Data Science Tools and Ecosystem are summarized.\n",
        "\n",
        "Some of the popular languages that Data Scientists use are:\n",
        "\n",
        "- R\n",
        "- Python\n",
        "- JavaScript\n",
        "- SQL\n",
        "\n",
        "Some of the popular languages that Data Scientists use are:\n",
        "\n",
        "- dyplr\n",
        "- ggplot\n",
        "- caret\n",
        "- pandas\n"
      ],
      "metadata": {
        "id": "7n04BssyYqi7"
      }
    },
    {
      "cell_type": "markdown",
      "source": [
        "# Data Science Tools\n",
        "\n",
        "---\n",
        "Github\n",
        "\n",
        "\n",
        "---\n",
        "\n",
        "Rstudio\n",
        "\n",
        "\n",
        "---\n",
        "\n",
        "Visual Studio\n",
        "\n",
        "\n",
        "---\n",
        "\n",
        "\n"
      ],
      "metadata": {
        "id": "S5ut3hDwbWDX"
      }
    },
    {
      "cell_type": "markdown",
      "source": [
        "### Below are a few examples of evaluating arithmetic expressions in Python.\n",
        "\n",
        "\n",
        "\n"
      ],
      "metadata": {
        "id": "HZsYnpZFcL6x"
      }
    },
    {
      "cell_type": "code",
      "source": [
        "(3*4)+5 #This a simple arithmetic expression to mutiply then add integers"
      ],
      "metadata": {
        "colab": {
          "base_uri": "https://localhost:8080/",
          "height": 0
        },
        "id": "0YW9zsbYcc8l",
        "outputId": "3951fa90-619f-42a1-da41-03bb2dea1034"
      },
      "execution_count": 2,
      "outputs": [
        {
          "output_type": "execute_result",
          "data": {
            "text/plain": [
              "17"
            ]
          },
          "metadata": {},
          "execution_count": 2
        }
      ]
    },
    {
      "cell_type": "code",
      "source": [
        "# This will convert 200 minutes to hours by diving by 60\n",
        "minutes = 200\n",
        "hours = minutes / 60\n",
        "hours\n"
      ],
      "metadata": {
        "colab": {
          "base_uri": "https://localhost:8080/",
          "height": 0
        },
        "id": "0vAcw97lc2Wt",
        "outputId": "d4bfccc3-ce5d-4bb5-d990-3054a608218a"
      },
      "execution_count": 3,
      "outputs": [
        {
          "output_type": "execute_result",
          "data": {
            "text/plain": [
              "3.3333333333333335"
            ]
          },
          "metadata": {},
          "execution_count": 3
        }
      ]
    },
    {
      "cell_type": "markdown",
      "source": [
        "**Objectives:**\n",
        "\n",
        "- List popular languages for Data Science\n",
        "- Understand key libraries used in Data Science (e.g., Pandas, NumPy)\n",
        "- Learn about Data Science tools and ecosystems\n",
        "- Convert time units (e.g., minutes to hours)\n",
        "- Explore the workflow for performing data analysis\n"
      ],
      "metadata": {
        "id": "1IRI0A55dI1a"
      }
    },
    {
      "cell_type": "markdown",
      "source": [
        "  ## Author\n",
        "\n",
        "  Iveth Gómez Morales"
      ],
      "metadata": {
        "id": "XMGZ73RFdcMv"
      }
    }
  ]
}